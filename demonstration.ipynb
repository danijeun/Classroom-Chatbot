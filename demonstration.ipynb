{
 "cells": [
  {
   "cell_type": "markdown",
   "id": "872113ca",
   "metadata": {},
   "source": [
    "# Demonstration Notebook for Video-Based Explanations\n",
    "\n",
    "## Introduction\n",
    "This notebook demonstrates our video-based explanation system that answers technical questions about machine learning concepts using only video clips."
   ]
  },
  {
   "cell_type": "code",
   "execution_count": 2,
   "id": "8d608310",
   "metadata": {},
   "outputs": [],
   "source": [
    "\n",
    "from IPython.display import display, HTML\n",
    "from IPython.display import Video\n",
    "import os\n",
    "\n",
    "def display_video(video_path, width=600):\n",
    "    \"\"\"Helper function to display videos with proper sizing\"\"\"\n",
    "    return Video(video_path, embed=True, width=width)"
   ]
  },
  {
   "cell_type": "code",
   "execution_count": 9,
   "id": "5cb30525",
   "metadata": {},
   "outputs": [
    {
     "data": {
      "text/html": [
       "\n",
       "<h2>Question 1</h2>\n",
       "<h3>Using only the videos, explain the advantages of CNNs over fully connected networks.</h3>\n"
      ],
      "text/plain": [
       "<IPython.core.display.HTML object>"
      ]
     },
     "metadata": {},
     "output_type": "display_data"
    },
    {
     "name": "stdout",
     "output_type": "stream",
     "text": [
      "Video path: c:\\Users\\Usuario\\Desktop\\CS\\CS 370\\PROJECT\\cnn_advantages.mp4\n"
     ]
    },
    {
     "data": {
      "text/html": [
       "\n",
       "        <div style=\"margin: 20px 0;\">\n",
       "            <video width=\"800\" controls>\n",
       "                <source src=\"cnn_advantages.mp4\" type=\"video/mp4\">\n",
       "                Your browser does not support HTML5 video.\n",
       "            </video>\n",
       "            <p style=\"color: #666; font-size: 0.9em;\">Click the volume icon to unmute if needed</p>\n",
       "        </div>\n",
       "        "
      ],
      "text/plain": [
       "<IPython.core.display.HTML object>"
      ]
     },
     "metadata": {},
     "output_type": "display_data"
    }
   ],
   "source": [
    "from IPython.display import display, HTML, Video\n",
    "import os\n",
    "\n",
    "# Display header\n",
    "display(HTML(\"\"\"\n",
    "<h2>Question 1</h2>\n",
    "<h3>Using only the videos, explain the advantages of CNNs over fully connected networks.</h3>\n",
    "\"\"\"))\n",
    "\n",
    "# Video path - adjust as needed\n",
    "video_path = \"cnn_advantages.mp4\"  # More descriptive filename\n",
    "\n",
    "# Verify path exists\n",
    "abs_path = os.path.abspath(video_path)\n",
    "print(f\"Video path: {abs_path}\")\n",
    "\n",
    "# Display with audio controls\n",
    "if os.path.exists(video_path):\n",
    "    try:\n",
    "        # Option 1: Using HTML5 video tag with controls (recommended)\n",
    "        display(HTML(f\"\"\"\n",
    "        <div style=\"margin: 20px 0;\">\n",
    "            <video width=\"800\" controls>\n",
    "                <source src=\"{video_path}\" type=\"video/mp4\">\n",
    "                Your browser does not support HTML5 video.\n",
    "            </video>\n",
    "            <p style=\"color: #666; font-size: 0.9em;\">Click the volume icon to unmute if needed</p>\n",
    "        </div>\n",
    "        \"\"\"))\n",
    "        \n",
    "        # Alternative option using Video display (less reliable for audio)\n",
    "        # display(Video(video_path, embed=True, width=800, html_attributes=\"controls\"))\n",
    "        \n",
    "    except Exception as e:\n",
    "        print(f\"Error displaying video: {str(e)}\")\n",
    "        print(\"Trying alternative display method...\")\n",
    "        try:\n",
    "            display(HTML(f'<a href=\"{video_path}\" target=\"_blank\">Open video in new tab</a>'))\n",
    "        except:\n",
    "            print(\"Could not display video\")\n",
    "else:\n",
    "    print(f\"Error: Video not found at {abs_path}\")\n",
    "    print(\"Current directory contents:\", [f for f in os.listdir('.') if f.endswith('.mp4')])"
   ]
  },
  {
   "cell_type": "code",
   "execution_count": 10,
   "id": "2fe752a9",
   "metadata": {},
   "outputs": [
    {
     "data": {
      "text/html": [
       "\n",
       "<h2>Question 2</h2>\n",
       "<h3>Explain the relationship between images and matrices</h3>\n"
      ],
      "text/plain": [
       "<IPython.core.display.HTML object>"
      ]
     },
     "metadata": {},
     "output_type": "display_data"
    },
    {
     "name": "stdout",
     "output_type": "stream",
     "text": [
      "Video path: c:\\Users\\Usuario\\Desktop\\CS\\CS 370\\PROJECT\\images_matrices.mp4\n"
     ]
    },
    {
     "data": {
      "text/html": [
       "\n",
       "        <div style=\"margin: 20px 0;\">\n",
       "            <video width=\"800\" controls>\n",
       "                <source src=\"images_matrices.mp4\" type=\"video/mp4\">\n",
       "                Your browser does not support HTML5 video.\n",
       "            </video>\n",
       "            <p style=\"color: #666; font-size: 0.9em;\">Click the volume icon to unmute if needed</p>\n",
       "        </div>\n",
       "        "
      ],
      "text/plain": [
       "<IPython.core.display.HTML object>"
      ]
     },
     "metadata": {},
     "output_type": "display_data"
    }
   ],
   "source": [
    "from IPython.display import display, HTML, Video\n",
    "import os\n",
    "\n",
    "# Display header\n",
    "display(HTML(\"\"\"\n",
    "<h2>Question 2</h2>\n",
    "<h3>Explain the relationship between images and matrices</h3>\n",
    "\"\"\"))\n",
    "\n",
    "# Video path - adjust as needed\n",
    "video_path = \"images_matrices.mp4\"  # More descriptive filename\n",
    "\n",
    "# Verify path exists\n",
    "abs_path = os.path.abspath(video_path)\n",
    "print(f\"Video path: {abs_path}\")\n",
    "\n",
    "# Display with audio controls\n",
    "if os.path.exists(video_path):\n",
    "    try:\n",
    "        # Option 1: Using HTML5 video tag with controls (recommended)\n",
    "        display(HTML(f\"\"\"\n",
    "        <div style=\"margin: 20px 0;\">\n",
    "            <video width=\"800\" controls>\n",
    "                <source src=\"{video_path}\" type=\"video/mp4\">\n",
    "                Your browser does not support HTML5 video.\n",
    "            </video>\n",
    "            <p style=\"color: #666; font-size: 0.9em;\">Click the volume icon to unmute if needed</p>\n",
    "        </div>\n",
    "        \"\"\"))\n",
    "        \n",
    "        # Alternative option using Video display (less reliable for audio)\n",
    "        # display(Video(video_path, embed=True, width=800, html_attributes=\"controls\"))\n",
    "        \n",
    "    except Exception as e:\n",
    "        print(f\"Error displaying video: {str(e)}\")\n",
    "        print(\"Trying alternative display method...\")\n",
    "        try:\n",
    "            display(HTML(f'<a href=\"{video_path}\" target=\"_blank\">Open video in new tab</a>'))\n",
    "        except:\n",
    "            print(\"Could not display video\")\n",
    "else:\n",
    "    print(f\"Error: Video not found at {abs_path}\")\n",
    "    print(\"Current directory contents:\", [f for f in os.listdir('.') if f.endswith('.mp4')])"
   ]
  },
  {
   "cell_type": "code",
   "execution_count": 11,
   "id": "a6e14634",
   "metadata": {},
   "outputs": [
    {
     "data": {
      "text/html": [
       "\n",
       "<h2>Question 3</h2>\n",
       "<h3>Explain how the brain processes images</h3>\n"
      ],
      "text/plain": [
       "<IPython.core.display.HTML object>"
      ]
     },
     "metadata": {},
     "output_type": "display_data"
    },
    {
     "name": "stdout",
     "output_type": "stream",
     "text": [
      "Video path: c:\\Users\\Usuario\\Desktop\\CS\\CS 370\\PROJECT\\brain_process.mp4\n"
     ]
    },
    {
     "data": {
      "text/html": [
       "\n",
       "        <div style=\"margin: 20px 0;\">\n",
       "            <video width=\"800\" controls>\n",
       "                <source src=\"brain_process.mp4\" type=\"video/mp4\">\n",
       "                Your browser does not support HTML5 video.\n",
       "            </video>\n",
       "            <p style=\"color: #666; font-size: 0.9em;\">Click the volume icon to unmute if needed</p>\n",
       "        </div>\n",
       "        "
      ],
      "text/plain": [
       "<IPython.core.display.HTML object>"
      ]
     },
     "metadata": {},
     "output_type": "display_data"
    }
   ],
   "source": [
    "from IPython.display import display, HTML, Video\n",
    "import os\n",
    "\n",
    "# Display header\n",
    "display(HTML(\"\"\"\n",
    "<h2>Question 3</h2>\n",
    "<h3>Explain how the brain processes images</h3>\n",
    "\"\"\"))\n",
    "\n",
    "# Video path - adjust as needed\n",
    "video_path = \"brain_process.mp4\"  # More descriptive filename\n",
    "\n",
    "# Verify path exists\n",
    "abs_path = os.path.abspath(video_path)\n",
    "print(f\"Video path: {abs_path}\")\n",
    "\n",
    "# Display with audio controls\n",
    "if os.path.exists(video_path):\n",
    "    try:\n",
    "        # Option 1: Using HTML5 video tag with controls (recommended)\n",
    "        display(HTML(f\"\"\"\n",
    "        <div style=\"margin: 20px 0;\">\n",
    "            <video width=\"800\" controls>\n",
    "                <source src=\"{video_path}\" type=\"video/mp4\">\n",
    "                Your browser does not support HTML5 video.\n",
    "            </video>\n",
    "            <p style=\"color: #666; font-size: 0.9em;\">Click the volume icon to unmute if needed</p>\n",
    "        </div>\n",
    "        \"\"\"))\n",
    "        \n",
    "        # Alternative option using Video display (less reliable for audio)\n",
    "        # display(Video(video_path, embed=True, width=800, html_attributes=\"controls\"))\n",
    "        \n",
    "    except Exception as e:\n",
    "        print(f\"Error displaying video: {str(e)}\")\n",
    "        print(\"Trying alternative display method...\")\n",
    "        try:\n",
    "            display(HTML(f'<a href=\"{video_path}\" target=\"_blank\">Open video in new tab</a>'))\n",
    "        except:\n",
    "            print(\"Could not display video\")\n",
    "else:\n",
    "    print(f\"Error: Video not found at {abs_path}\")\n",
    "    print(\"Current directory contents:\", [f for f in os.listdir('.') if f.endswith('.mp4')])"
   ]
  },
  {
   "cell_type": "code",
   "execution_count": null,
   "id": "1f4b680d",
   "metadata": {},
   "outputs": [],
   "source": []
  }
 ],
 "metadata": {
  "kernelspec": {
   "display_name": "Python 3",
   "language": "python",
   "name": "python3"
  },
  "language_info": {
   "codemirror_mode": {
    "name": "ipython",
    "version": 3
   },
   "file_extension": ".py",
   "mimetype": "text/x-python",
   "name": "python",
   "nbconvert_exporter": "python",
   "pygments_lexer": "ipython3",
   "version": "3.12.0"
  }
 },
 "nbformat": 4,
 "nbformat_minor": 5
}
